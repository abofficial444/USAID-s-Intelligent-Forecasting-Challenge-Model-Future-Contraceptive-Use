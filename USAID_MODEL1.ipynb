{
  "nbformat": 4,
  "nbformat_minor": 0,
  "metadata": {
    "colab": {
      "name": "USAID_MODEL2 (with usaid submission format)(IMPROVED VERSION-0.8598 MASE score).ipynb",
      "provenance": [],
      "collapsed_sections": []
    },
    "kernelspec": {
      "name": "python3",
      "display_name": "Python 3"
    }
  },
  "cells": [
    {
      "cell_type": "code",
      "metadata": {
        "id": "lF1oWeZwLnIy",
        "colab_type": "code",
        "colab": {
          "base_uri": "https://localhost:8080/",
          "height": 122
        },
        "outputId": "a73a4add-a2fb-493f-df62-b0cd1bc43530"
      },
      "source": [
        "from google.colab import drive\n",
        "drive.mount('/content/drive')"
      ],
      "execution_count": null,
      "outputs": [
        {
          "output_type": "stream",
          "text": [
            "Go to this URL in a browser: https://accounts.google.com/o/oauth2/auth?client_id=947318989803-6bn6qk8qdgf4n4g3pfee6491hc0brc4i.apps.googleusercontent.com&redirect_uri=urn%3aietf%3awg%3aoauth%3a2.0%3aoob&scope=email%20https%3a%2f%2fwww.googleapis.com%2fauth%2fdocs.test%20https%3a%2f%2fwww.googleapis.com%2fauth%2fdrive%20https%3a%2f%2fwww.googleapis.com%2fauth%2fdrive.photos.readonly%20https%3a%2f%2fwww.googleapis.com%2fauth%2fpeopleapi.readonly&response_type=code\n",
            "\n",
            "Enter your authorization code:\n",
            "··········\n",
            "Mounted at /content/drive\n"
          ],
          "name": "stdout"
        }
      ]
    },
    {
      "cell_type": "code",
      "metadata": {
        "id": "SEN2KKURL_5y",
        "colab_type": "code",
        "colab": {
          "base_uri": "https://localhost:8080/",
          "height": 292
        },
        "outputId": "307b62f0-10e9-403a-cbe8-28d38157d88d"
      },
      "source": [
        "!pip install category_encoders"
      ],
      "execution_count": null,
      "outputs": [
        {
          "output_type": "stream",
          "text": [
            "Collecting category_encoders\n",
            "\u001b[?25l  Downloading https://files.pythonhosted.org/packages/44/57/fcef41c248701ee62e8325026b90c432adea35555cbc870aff9cfba23727/category_encoders-2.2.2-py2.py3-none-any.whl (80kB)\n",
            "\r\u001b[K     |████                            | 10kB 16.4MB/s eta 0:00:01\r\u001b[K     |████████▏                       | 20kB 1.5MB/s eta 0:00:01\r\u001b[K     |████████████▏                   | 30kB 1.9MB/s eta 0:00:01\r\u001b[K     |████████████████▎               | 40kB 2.3MB/s eta 0:00:01\r\u001b[K     |████████████████████▎           | 51kB 1.8MB/s eta 0:00:01\r\u001b[K     |████████████████████████▍       | 61kB 2.0MB/s eta 0:00:01\r\u001b[K     |████████████████████████████▍   | 71kB 2.2MB/s eta 0:00:01\r\u001b[K     |████████████████████████████████| 81kB 2.0MB/s \n",
            "\u001b[?25hRequirement already satisfied: patsy>=0.5.1 in /usr/local/lib/python3.6/dist-packages (from category_encoders) (0.5.1)\n",
            "Requirement already satisfied: numpy>=1.14.0 in /usr/local/lib/python3.6/dist-packages (from category_encoders) (1.18.5)\n",
            "Requirement already satisfied: scipy>=1.0.0 in /usr/local/lib/python3.6/dist-packages (from category_encoders) (1.4.1)\n",
            "Requirement already satisfied: statsmodels>=0.9.0 in /usr/local/lib/python3.6/dist-packages (from category_encoders) (0.10.2)\n",
            "Requirement already satisfied: scikit-learn>=0.20.0 in /usr/local/lib/python3.6/dist-packages (from category_encoders) (0.22.2.post1)\n",
            "Requirement already satisfied: pandas>=0.21.1 in /usr/local/lib/python3.6/dist-packages (from category_encoders) (1.0.5)\n",
            "Requirement already satisfied: six in /usr/local/lib/python3.6/dist-packages (from patsy>=0.5.1->category_encoders) (1.15.0)\n",
            "Requirement already satisfied: joblib>=0.11 in /usr/local/lib/python3.6/dist-packages (from scikit-learn>=0.20.0->category_encoders) (0.16.0)\n",
            "Requirement already satisfied: python-dateutil>=2.6.1 in /usr/local/lib/python3.6/dist-packages (from pandas>=0.21.1->category_encoders) (2.8.1)\n",
            "Requirement already satisfied: pytz>=2017.2 in /usr/local/lib/python3.6/dist-packages (from pandas>=0.21.1->category_encoders) (2018.9)\n",
            "Installing collected packages: category-encoders\n",
            "Successfully installed category-encoders-2.2.2\n"
          ],
          "name": "stdout"
        }
      ]
    },
    {
      "cell_type": "code",
      "metadata": {
        "id": "I4NLH7QOL_-p",
        "colab_type": "code",
        "colab": {
          "base_uri": "https://localhost:8080/",
          "height": 71
        },
        "outputId": "cd05a291-7cb4-4a0d-e291-253bbb582877"
      },
      "source": [
        "\n",
        "### Import necessary dependencies\n",
        "import numpy as np\n",
        "import pandas as pd\n",
        "import calendar\n",
        "import datetime\n",
        "from dateutil.relativedelta import relativedelta\n",
        "import category_encoders as ce\n",
        "from lightgbm import LGBMRegressor\n",
        "from sklearn.linear_model import Lasso \n",
        "from xgboost import XGBRegressor\n",
        "from sklearn.metrics import mean_squared_error\n",
        "from sklearn.ensemble import ExtraTreesRegressor\n",
        "from sklearn.feature_selection import SelectFromModel\n",
        "from sklearn.linear_model import Ridge,Lasso,LassoLarsCV\n",
        "from  scipy.stats import zscore\n",
        "import plotly.express as px\n",
        "import plotly.offline as pyoff\n",
        "import plotly.graph_objs as go"
      ],
      "execution_count": null,
      "outputs": [
        {
          "output_type": "stream",
          "text": [
            "/usr/local/lib/python3.6/dist-packages/statsmodels/tools/_testing.py:19: FutureWarning: pandas.util.testing is deprecated. Use the functions in the public API at pandas.testing instead.\n",
            "  import pandas.util.testing as tm\n"
          ],
          "name": "stderr"
        }
      ]
    },
    {
      "cell_type": "markdown",
      "metadata": {
        "id": "hs_DtXvWbkcZ",
        "colab_type": "text"
      },
      "source": [
        "#DEFINING MEAN ABSOLUTE SCALED ERROR(MASE) METRICS FUNCTION:"
      ]
    },
    {
      "cell_type": "code",
      "metadata": {
        "id": "_IbVf8vhTFCW",
        "colab_type": "code",
        "colab": {}
      },
      "source": [
        "#MEAN ABSOLUTE SCALED ERROR METRICS FUNCTION\n",
        "def MASE(y_train,y_test,y_hat):\n",
        "  return (((y_train.shape[0]-1)/y_test.shape[0])*(np.sum(np.abs(y_test-y_hat))))/(np.sum(np.abs(y_train[1:]-y_train[0:-1])))"
      ],
      "execution_count": null,
      "outputs": []
    },
    {
      "cell_type": "markdown",
      "metadata": {
        "id": "w0CJItTvbu0F",
        "colab_type": "text"
      },
      "source": [
        "# Read in all data files"
      ]
    },
    {
      "cell_type": "code",
      "metadata": {
        "id": "mC1g_A6cMADu",
        "colab_type": "code",
        "colab": {}
      },
      "source": [
        "### Read all files\n",
        "trainb=pd.read_csv('/content/drive/My Drive/contraceptive_logistics_data.csv')\n",
        "submission_usaid=pd.read_csv('/content/drive/My Drive/submission_format.csv')\n",
        "sub_zindi=pd.read_csv('/content/drive/My Drive/SampleSubmission_usaid.csv')\n",
        "contraceptive_case_data_monthly=pd.read_csv('/content/drive/My Drive/contraceptive_case_data_monthly.csv')\n",
        "product=pd.read_csv('/content/drive/My Drive/product.csv')\n",
        "service_delivery_site_data=pd.read_csv('/content/drive/My Drive/service_delivery_site_data.csv')\n",
        "contraceptive_case_data_annual=pd.read_csv('/content/drive/My Drive/contraceptive_case_data_annual.csv')\n",
        "\n",
        "'''path_read='drive/My Drive/zindi/Final Data/'\n",
        "trainb=pd.read_csv(path_read+'contraceptive_logistics_data.csv')\n",
        "submission_usaid=pd.read_csv(path_read+'submission_format.csv')\n",
        "sub_zindi=pd.read_csv(path_read+'SampleSubmission.csv')\n",
        "contraceptive_case_data_monthly=pd.read_csv(path_read+'contraceptive_case_data_monthly.csv')\n",
        "product=pd.read_csv(path_read+'product.csv')\n",
        "service_delivery_site_data=pd.read_csv(path_read+'service_delivery_site_data.csv')\n",
        "contraceptive_case_data_annual=pd.read_csv(path_read+'contraceptive_case_data_annual.csv')'''\n",
        "\n",
        "\n",
        "### merge product file and service_delivery_site_data file with contraceptive_logistics_data\n",
        "trainb=trainb.merge(service_delivery_site_data[['site_code','site_type','site_latitude','site_longitude']],on='site_code')\n",
        "trainb=trainb.merge(product[['product_code','product_type']],on='product_code')\n",
        "\n",
        "### Create two columns ID and calendar. ID and calendar will be used later in the creation of the training data and the test data\n",
        "trainb['ID']=trainb.year.astype(str)+' X '+trainb.month.astype(str)+' X '+trainb['site_code']+' X '+trainb['product_code']\n",
        "trainb['calendar']=trainb[['year','month']].apply(lambda x:datetime.datetime(x['year'],x['month'],calendar.monthrange(x['year'],x['month'])[1]),axis=1)"
      ],
      "execution_count": null,
      "outputs": []
    },
    {
      "cell_type": "code",
      "metadata": {
        "id": "h3TSnN9UykYT",
        "colab_type": "code",
        "colab": {}
      },
      "source": [
        "### Calculate monthly stock distribution with respect to each year\n",
        "stock_distribution_monthly = trainb.groupby(['year','month']).stock_distributed.sum().reset_index()"
      ],
      "execution_count": null,
      "outputs": []
    },
    {
      "cell_type": "markdown",
      "metadata": {
        "id": "rzKB70qD8vkh",
        "colab_type": "text"
      },
      "source": [
        "#BIVARIATE ANALYSIS"
      ]
    },
    {
      "cell_type": "code",
      "metadata": {
        "id": "ykrYapH0yL5J",
        "colab_type": "code",
        "colab": {
          "base_uri": "https://localhost:8080/",
          "height": 542
        },
        "outputId": "896a8f40-ed77-4110-8f75-9406808ce0c1"
      },
      "source": [
        "#plot monthly stock ditribution\n",
        "plot_data = [\n",
        "    go.Scatter(\n",
        "        x=stock_distribution_monthly['month'],\n",
        "        y=stock_distribution_monthly['stock_distributed'],\n",
        "    )\n",
        "]\n",
        "plot_layout = go.Layout(\n",
        "        title='Monthly stock distributed'\n",
        "    )\n",
        "fig = go.Figure(data=plot_data, layout=plot_layout)\n",
        "pyoff.iplot(fig)"
      ],
      "execution_count": null,
      "outputs": [
        {
          "output_type": "display_data",
          "data": {
            "text/html": [
              "<html>\n",
              "<head><meta charset=\"utf-8\" /></head>\n",
              "<body>\n",
              "    <div>\n",
              "            <script src=\"https://cdnjs.cloudflare.com/ajax/libs/mathjax/2.7.5/MathJax.js?config=TeX-AMS-MML_SVG\"></script><script type=\"text/javascript\">if (window.MathJax) {MathJax.Hub.Config({SVG: {font: \"STIX-Web\"}});}</script>\n",
              "                <script type=\"text/javascript\">window.PlotlyConfig = {MathJaxConfig: 'local'};</script>\n",
              "        <script src=\"https://cdn.plot.ly/plotly-latest.min.js\"></script>    \n",
              "            <div id=\"592c09ce-b8ed-44f4-8f9a-df0a705d7e77\" class=\"plotly-graph-div\" style=\"height:525px; width:100%;\"></div>\n",
              "            <script type=\"text/javascript\">\n",
              "                \n",
              "                    window.PLOTLYENV=window.PLOTLYENV || {};\n",
              "                    \n",
              "                if (document.getElementById(\"592c09ce-b8ed-44f4-8f9a-df0a705d7e77\")) {\n",
              "                    Plotly.newPlot(\n",
              "                        '592c09ce-b8ed-44f4-8f9a-df0a705d7e77',\n",
              "                        [{\"type\": \"scatter\", \"x\": [1, 2, 3, 4, 5, 6, 7, 8, 9, 10, 11, 12, 1, 2, 3, 4, 5, 6, 7, 8, 9, 10, 11, 12, 1, 2, 3, 4, 5, 6, 7, 8, 9, 10, 11, 12, 1, 2, 3, 4, 5, 6, 7, 8, 9], \"y\": [6852, 6111, 9495, 7664, 9081, 10107, 9412, 10111, 12168, 13411, 12726, 13022, 12175, 14029, 13406, 13692, 13837, 10496, 10660, 9836, 13082, 11534, 12886, 13172, 13699, 12088, 11863, 11707, 12445, 13657, 14152, 13252, 15514, 16327, 13429, 15073, 15773, 13834, 14821, 17223, 16145, 17902, 19357, 17176, 15851]}],\n",
              "                        {\"template\": {\"data\": {\"bar\": [{\"error_x\": {\"color\": \"#2a3f5f\"}, \"error_y\": {\"color\": \"#2a3f5f\"}, \"marker\": {\"line\": {\"color\": \"#E5ECF6\", \"width\": 0.5}}, \"type\": \"bar\"}], \"barpolar\": [{\"marker\": {\"line\": {\"color\": \"#E5ECF6\", \"width\": 0.5}}, \"type\": \"barpolar\"}], \"carpet\": [{\"aaxis\": {\"endlinecolor\": \"#2a3f5f\", \"gridcolor\": \"white\", \"linecolor\": \"white\", \"minorgridcolor\": \"white\", \"startlinecolor\": \"#2a3f5f\"}, \"baxis\": {\"endlinecolor\": \"#2a3f5f\", \"gridcolor\": \"white\", \"linecolor\": \"white\", \"minorgridcolor\": \"white\", \"startlinecolor\": \"#2a3f5f\"}, \"type\": \"carpet\"}], \"choropleth\": [{\"colorbar\": {\"outlinewidth\": 0, \"ticks\": \"\"}, \"type\": \"choropleth\"}], \"contour\": [{\"colorbar\": {\"outlinewidth\": 0, \"ticks\": \"\"}, \"colorscale\": [[0.0, \"#0d0887\"], [0.1111111111111111, \"#46039f\"], [0.2222222222222222, \"#7201a8\"], [0.3333333333333333, \"#9c179e\"], [0.4444444444444444, \"#bd3786\"], [0.5555555555555556, \"#d8576b\"], [0.6666666666666666, \"#ed7953\"], [0.7777777777777778, \"#fb9f3a\"], [0.8888888888888888, \"#fdca26\"], [1.0, \"#f0f921\"]], \"type\": \"contour\"}], \"contourcarpet\": [{\"colorbar\": {\"outlinewidth\": 0, \"ticks\": \"\"}, \"type\": \"contourcarpet\"}], \"heatmap\": [{\"colorbar\": {\"outlinewidth\": 0, \"ticks\": \"\"}, \"colorscale\": [[0.0, \"#0d0887\"], [0.1111111111111111, \"#46039f\"], [0.2222222222222222, \"#7201a8\"], [0.3333333333333333, \"#9c179e\"], [0.4444444444444444, \"#bd3786\"], [0.5555555555555556, \"#d8576b\"], [0.6666666666666666, \"#ed7953\"], [0.7777777777777778, \"#fb9f3a\"], [0.8888888888888888, \"#fdca26\"], [1.0, \"#f0f921\"]], \"type\": \"heatmap\"}], \"heatmapgl\": [{\"colorbar\": {\"outlinewidth\": 0, \"ticks\": \"\"}, \"colorscale\": [[0.0, \"#0d0887\"], [0.1111111111111111, \"#46039f\"], [0.2222222222222222, \"#7201a8\"], [0.3333333333333333, \"#9c179e\"], [0.4444444444444444, \"#bd3786\"], [0.5555555555555556, \"#d8576b\"], [0.6666666666666666, \"#ed7953\"], [0.7777777777777778, \"#fb9f3a\"], [0.8888888888888888, \"#fdca26\"], [1.0, \"#f0f921\"]], \"type\": \"heatmapgl\"}], \"histogram\": [{\"marker\": {\"colorbar\": {\"outlinewidth\": 0, \"ticks\": \"\"}}, \"type\": \"histogram\"}], \"histogram2d\": [{\"colorbar\": {\"outlinewidth\": 0, \"ticks\": \"\"}, \"colorscale\": [[0.0, \"#0d0887\"], [0.1111111111111111, \"#46039f\"], [0.2222222222222222, \"#7201a8\"], [0.3333333333333333, \"#9c179e\"], [0.4444444444444444, \"#bd3786\"], [0.5555555555555556, \"#d8576b\"], [0.6666666666666666, \"#ed7953\"], [0.7777777777777778, \"#fb9f3a\"], [0.8888888888888888, \"#fdca26\"], [1.0, \"#f0f921\"]], \"type\": \"histogram2d\"}], \"histogram2dcontour\": [{\"colorbar\": {\"outlinewidth\": 0, \"ticks\": \"\"}, \"colorscale\": [[0.0, \"#0d0887\"], [0.1111111111111111, \"#46039f\"], [0.2222222222222222, \"#7201a8\"], [0.3333333333333333, \"#9c179e\"], [0.4444444444444444, \"#bd3786\"], [0.5555555555555556, \"#d8576b\"], [0.6666666666666666, \"#ed7953\"], [0.7777777777777778, \"#fb9f3a\"], [0.8888888888888888, \"#fdca26\"], [1.0, \"#f0f921\"]], \"type\": \"histogram2dcontour\"}], \"mesh3d\": [{\"colorbar\": {\"outlinewidth\": 0, \"ticks\": \"\"}, \"type\": \"mesh3d\"}], \"parcoords\": [{\"line\": {\"colorbar\": {\"outlinewidth\": 0, \"ticks\": \"\"}}, \"type\": \"parcoords\"}], \"pie\": [{\"automargin\": true, \"type\": \"pie\"}], \"scatter\": [{\"marker\": {\"colorbar\": {\"outlinewidth\": 0, \"ticks\": \"\"}}, \"type\": \"scatter\"}], \"scatter3d\": [{\"line\": {\"colorbar\": {\"outlinewidth\": 0, \"ticks\": \"\"}}, \"marker\": {\"colorbar\": {\"outlinewidth\": 0, \"ticks\": \"\"}}, \"type\": \"scatter3d\"}], \"scattercarpet\": [{\"marker\": {\"colorbar\": {\"outlinewidth\": 0, \"ticks\": \"\"}}, \"type\": \"scattercarpet\"}], \"scattergeo\": [{\"marker\": {\"colorbar\": {\"outlinewidth\": 0, \"ticks\": \"\"}}, \"type\": \"scattergeo\"}], \"scattergl\": [{\"marker\": {\"colorbar\": {\"outlinewidth\": 0, \"ticks\": \"\"}}, \"type\": \"scattergl\"}], \"scattermapbox\": [{\"marker\": {\"colorbar\": {\"outlinewidth\": 0, \"ticks\": \"\"}}, \"type\": \"scattermapbox\"}], \"scatterpolar\": [{\"marker\": {\"colorbar\": {\"outlinewidth\": 0, \"ticks\": \"\"}}, \"type\": \"scatterpolar\"}], \"scatterpolargl\": [{\"marker\": {\"colorbar\": {\"outlinewidth\": 0, \"ticks\": \"\"}}, \"type\": \"scatterpolargl\"}], \"scatterternary\": [{\"marker\": {\"colorbar\": {\"outlinewidth\": 0, \"ticks\": \"\"}}, \"type\": \"scatterternary\"}], \"surface\": [{\"colorbar\": {\"outlinewidth\": 0, \"ticks\": \"\"}, \"colorscale\": [[0.0, \"#0d0887\"], [0.1111111111111111, \"#46039f\"], [0.2222222222222222, \"#7201a8\"], [0.3333333333333333, \"#9c179e\"], [0.4444444444444444, \"#bd3786\"], [0.5555555555555556, \"#d8576b\"], [0.6666666666666666, \"#ed7953\"], [0.7777777777777778, \"#fb9f3a\"], [0.8888888888888888, \"#fdca26\"], [1.0, \"#f0f921\"]], \"type\": \"surface\"}], \"table\": [{\"cells\": {\"fill\": {\"color\": \"#EBF0F8\"}, \"line\": {\"color\": \"white\"}}, \"header\": {\"fill\": {\"color\": \"#C8D4E3\"}, \"line\": {\"color\": \"white\"}}, \"type\": \"table\"}]}, \"layout\": {\"annotationdefaults\": {\"arrowcolor\": \"#2a3f5f\", \"arrowhead\": 0, \"arrowwidth\": 1}, \"coloraxis\": {\"colorbar\": {\"outlinewidth\": 0, \"ticks\": \"\"}}, \"colorscale\": {\"diverging\": [[0, \"#8e0152\"], [0.1, \"#c51b7d\"], [0.2, \"#de77ae\"], [0.3, \"#f1b6da\"], [0.4, \"#fde0ef\"], [0.5, \"#f7f7f7\"], [0.6, \"#e6f5d0\"], [0.7, \"#b8e186\"], [0.8, \"#7fbc41\"], [0.9, \"#4d9221\"], [1, \"#276419\"]], \"sequential\": [[0.0, \"#0d0887\"], [0.1111111111111111, \"#46039f\"], [0.2222222222222222, \"#7201a8\"], [0.3333333333333333, \"#9c179e\"], [0.4444444444444444, \"#bd3786\"], [0.5555555555555556, \"#d8576b\"], [0.6666666666666666, \"#ed7953\"], [0.7777777777777778, \"#fb9f3a\"], [0.8888888888888888, \"#fdca26\"], [1.0, \"#f0f921\"]], \"sequentialminus\": [[0.0, \"#0d0887\"], [0.1111111111111111, \"#46039f\"], [0.2222222222222222, \"#7201a8\"], [0.3333333333333333, \"#9c179e\"], [0.4444444444444444, \"#bd3786\"], [0.5555555555555556, \"#d8576b\"], [0.6666666666666666, \"#ed7953\"], [0.7777777777777778, \"#fb9f3a\"], [0.8888888888888888, \"#fdca26\"], [1.0, \"#f0f921\"]]}, \"colorway\": [\"#636efa\", \"#EF553B\", \"#00cc96\", \"#ab63fa\", \"#FFA15A\", \"#19d3f3\", \"#FF6692\", \"#B6E880\", \"#FF97FF\", \"#FECB52\"], \"font\": {\"color\": \"#2a3f5f\"}, \"geo\": {\"bgcolor\": \"white\", \"lakecolor\": \"white\", \"landcolor\": \"#E5ECF6\", \"showlakes\": true, \"showland\": true, \"subunitcolor\": \"white\"}, \"hoverlabel\": {\"align\": \"left\"}, \"hovermode\": \"closest\", \"mapbox\": {\"style\": \"light\"}, \"paper_bgcolor\": \"white\", \"plot_bgcolor\": \"#E5ECF6\", \"polar\": {\"angularaxis\": {\"gridcolor\": \"white\", \"linecolor\": \"white\", \"ticks\": \"\"}, \"bgcolor\": \"#E5ECF6\", \"radialaxis\": {\"gridcolor\": \"white\", \"linecolor\": \"white\", \"ticks\": \"\"}}, \"scene\": {\"xaxis\": {\"backgroundcolor\": \"#E5ECF6\", \"gridcolor\": \"white\", \"gridwidth\": 2, \"linecolor\": \"white\", \"showbackground\": true, \"ticks\": \"\", \"zerolinecolor\": \"white\"}, \"yaxis\": {\"backgroundcolor\": \"#E5ECF6\", \"gridcolor\": \"white\", \"gridwidth\": 2, \"linecolor\": \"white\", \"showbackground\": true, \"ticks\": \"\", \"zerolinecolor\": \"white\"}, \"zaxis\": {\"backgroundcolor\": \"#E5ECF6\", \"gridcolor\": \"white\", \"gridwidth\": 2, \"linecolor\": \"white\", \"showbackground\": true, \"ticks\": \"\", \"zerolinecolor\": \"white\"}}, \"shapedefaults\": {\"line\": {\"color\": \"#2a3f5f\"}}, \"ternary\": {\"aaxis\": {\"gridcolor\": \"white\", \"linecolor\": \"white\", \"ticks\": \"\"}, \"baxis\": {\"gridcolor\": \"white\", \"linecolor\": \"white\", \"ticks\": \"\"}, \"bgcolor\": \"#E5ECF6\", \"caxis\": {\"gridcolor\": \"white\", \"linecolor\": \"white\", \"ticks\": \"\"}}, \"title\": {\"x\": 0.05}, \"xaxis\": {\"automargin\": true, \"gridcolor\": \"white\", \"linecolor\": \"white\", \"ticks\": \"\", \"title\": {\"standoff\": 15}, \"zerolinecolor\": \"white\", \"zerolinewidth\": 2}, \"yaxis\": {\"automargin\": true, \"gridcolor\": \"white\", \"linecolor\": \"white\", \"ticks\": \"\", \"title\": {\"standoff\": 15}, \"zerolinecolor\": \"white\", \"zerolinewidth\": 2}}}, \"title\": {\"text\": \"Monthly stock distributed\"}},\n",
              "                        {\"responsive\": true}\n",
              "                    ).then(function(){\n",
              "                            \n",
              "var gd = document.getElementById('592c09ce-b8ed-44f4-8f9a-df0a705d7e77');\n",
              "var x = new MutationObserver(function (mutations, observer) {{\n",
              "        var display = window.getComputedStyle(gd).display;\n",
              "        if (!display || display === 'none') {{\n",
              "            console.log([gd, 'removed!']);\n",
              "            Plotly.purge(gd);\n",
              "            observer.disconnect();\n",
              "        }}\n",
              "}});\n",
              "\n",
              "// Listen for the removal of the full notebook cells\n",
              "var notebookContainer = gd.closest('#notebook-container');\n",
              "if (notebookContainer) {{\n",
              "    x.observe(notebookContainer, {childList: true});\n",
              "}}\n",
              "\n",
              "// Listen for the clearing of the current output cell\n",
              "var outputEl = gd.closest('.output');\n",
              "if (outputEl) {{\n",
              "    x.observe(outputEl, {childList: true});\n",
              "}}\n",
              "\n",
              "                        })\n",
              "                };\n",
              "                \n",
              "            </script>\n",
              "        </div>\n",
              "</body>\n",
              "</html>"
            ]
          },
          "metadata": {
            "tags": []
          }
        }
      ]
    },
    {
      "cell_type": "markdown",
      "metadata": {
        "id": "C56gF9FJcEuG",
        "colab_type": "text"
      },
      "source": [
        "# Estimate for product per site for each month"
      ]
    },
    {
      "cell_type": "code",
      "metadata": {
        "id": "879Y0L-6zAIp",
        "colab_type": "code",
        "colab": {}
      },
      "source": [
        "### Estimate for product per site for each month\n",
        "Total_stock_distributed =trainb.groupby(['month','district','site_code']).product_code.sum().reset_index()\n",
        "Total_stock_distributed.rename({'product_code':'Total_product_on_month_basis_for_each_site_code'}, axis=1, inplace=True)"
      ],
      "execution_count": null,
      "outputs": []
    },
    {
      "cell_type": "markdown",
      "metadata": {
        "id": "e2taObr5cAzM",
        "colab_type": "text"
      },
      "source": [
        "# A function to return a count for product per site"
      ]
    },
    {
      "cell_type": "code",
      "metadata": {
        "id": "belzxtREzhp6",
        "colab_type": "code",
        "colab": {}
      },
      "source": [
        "## A function to return a count for product per site\n",
        "def count_product(text):\n",
        "    count = sum([1 for char in text if char in string.punctuation])\n",
        "    return round(count/(len(text) - text.count(\" \")), 3)*100\n",
        "\n",
        "Total_stock_distributed['Total_product_persite'] = Total_stock_distributed['Total_product_on_month_basis_for_each_site_code'].apply(lambda x: len(x) - x.count(\" \"))"
      ],
      "execution_count": null,
      "outputs": []
    },
    {
      "cell_type": "code",
      "metadata": {
        "id": "LReHjiW3znjb",
        "colab_type": "code",
        "colab": {}
      },
      "source": [
        "### Divide the series by the total length of fixed string to scale counting\n",
        "Total_stock_distributed['Total_product_persite']= Total_stock_distributed['Total_product_persite']/7\n",
        "Total_stock_distributed['Total_product_persite']=Total_stock_distributed['Total_product_persite'].astype(int)"
      ],
      "execution_count": null,
      "outputs": []
    },
    {
      "cell_type": "code",
      "metadata": {
        "id": "ChTsPtRqzsIy",
        "colab_type": "code",
        "colab": {}
      },
      "source": [
        "#Containerize Total product on monthly basis to a new variable Total product\n",
        "Total_stock_distributed['Total_product']=Total_stock_distributed['Total_product_on_month_basis_for_each_site_code'].map(Total_stock_distributed['Total_product_on_month_basis_for_each_site_code'].value_counts())"
      ],
      "execution_count": null,
      "outputs": []
    },
    {
      "cell_type": "code",
      "metadata": {
        "id": "CEtncZglz0Pg",
        "colab_type": "code",
        "colab": {}
      },
      "source": [
        "#Merge Stock distribution analysis to exiting data\n",
        "trainb = pd.merge(Total_stock_distributed, trainb, how=\"inner\", on=[\"month\",\"site_code\",\"district\"])"
      ],
      "execution_count": null,
      "outputs": []
    },
    {
      "cell_type": "code",
      "metadata": {
        "id": "r1A5_ISIXv-V",
        "colab_type": "code",
        "colab": {}
      },
      "source": [
        "### Sort data by year and month\n",
        "### first of all we sort the dataset by year and month to be sure that all the variables we are going to create will follow the evolution of time\n",
        "trainb=trainb.sort_values(by=['year','month'],ascending=True)"
      ],
      "execution_count": null,
      "outputs": []
    },
    {
      "cell_type": "markdown",
      "metadata": {
        "id": "YbnGWUT0cN9h",
        "colab_type": "text"
      },
      "source": [
        "# Removal of invalid zeros"
      ]
    },
    {
      "cell_type": "code",
      "metadata": {
        "id": "l5GVb_D56FML",
        "colab_type": "code",
        "colab": {}
      },
      "source": [
        "### removal of invalid zeros\n",
        "trainb['som']=trainb[['stock_initial','stock_received','stock_distributed','stock_adjustment','stock_end']].sum(axis=1)\n",
        "trainb=trainb.loc[trainb['som']!=0]\n",
        "trainb=trainb.loc[~((trainb['stock_initial']>0)&(trainb['average_monthly_consumption']>0)&(trainb['stock_distributed']==0))]\n",
        "trainb=trainb.loc[~((trainb['stock_initial']>0)&(trainb['stock_distributed']==0))]"
      ],
      "execution_count": null,
      "outputs": []
    },
    {
      "cell_type": "markdown",
      "metadata": {
        "id": "Yd5OJeMrdSIP",
        "colab_type": "text"
      },
      "source": [
        "# FEATURE ENGINEERING:"
      ]
    },
    {
      "cell_type": "markdown",
      "metadata": {
        "id": "T-LBAW44ca-p",
        "colab_type": "text"
      },
      "source": [
        "# Creating additional three(3) features(Manhattan distance, Haversine distance & Bearing) from the given long and lat coordinates:"
      ]
    },
    {
      "cell_type": "code",
      "metadata": {
        "id": "JIZUf_PHWFz0",
        "colab_type": "code",
        "colab": {}
      },
      "source": [
        "#Manhattan distnace\n",
        "def manhattan_distance(lat, lon):\n",
        "    a = np.abs(lat -lon)\n",
        "    return a\n",
        "trainb['manhattan_dist'] = manhattan_distance(trainb['site_latitude'].values, trainb['site_longitude'].values,)"
      ],
      "execution_count": null,
      "outputs": []
    },
    {
      "cell_type": "code",
      "metadata": {
        "id": "_L3Ft0yRhMAc",
        "colab_type": "code",
        "colab": {}
      },
      "source": [
        "#Haversine distance\n",
        "def haversine_array(lat, lon):\n",
        "    lat1, lng1 = map(np.radians, (lat, lon))\n",
        "    AVG_EARTH_RADIUS = 6371  # in km\n",
        "    lat = lat1\n",
        "    lng = lng1\n",
        "    d = np.sin(lat * 0.5) ** 2 + np.cos(lat1) * np.cos(0) * np.sin(lng * 0.5) ** 2\n",
        "    h = 2 * AVG_EARTH_RADIUS * np.arcsin(np.sqrt(d))\n",
        "    return h\n",
        "\n",
        "trainb['distance_haversine'] = haversine_array(trainb['site_latitude'].values, trainb['site_longitude'].values)"
      ],
      "execution_count": null,
      "outputs": []
    },
    {
      "cell_type": "code",
      "metadata": {
        "id": "VdCOVxJqWKgd",
        "colab_type": "code",
        "colab": {}
      },
      "source": [
        "#Bearing\n",
        "def bearing_array(lat, lng):\n",
        "    AVG_EARTH_RADIUS = 6371  # in km\n",
        "    lng_delta_rad = np.radians(lat - lng)\n",
        "    lat, lng = map(np.radians, (lat, lng))\n",
        "    y = np.sin(lng_delta_rad) * np.cos(lat)\n",
        "    x = np.cos(lat) * np.sin(lat) - np.sin(lng) * np.cos(lng) * np.cos(lng_delta_rad)\n",
        "    return np.degrees(np.arctan2(y, x))\n",
        "trainb['bearing'] = bearing_array(trainb['site_latitude'].values, trainb['site_longitude'].values,)"
      ],
      "execution_count": null,
      "outputs": []
    },
    {
      "cell_type": "markdown",
      "metadata": {
        "id": "V9fvEwOic4hd",
        "colab_type": "text"
      },
      "source": [
        "# Scaling of numeric variables:"
      ]
    },
    {
      "cell_type": "code",
      "metadata": {
        "id": "LVErZfKF3iR1",
        "colab_type": "code",
        "colab": {}
      },
      "source": [
        "### scaling of numeric variables\n",
        "from sklearn.preprocessing import StandardScaler\n",
        "scaler = StandardScaler()\n",
        "cl=list(trainb.select_dtypes(include=['float','int']).columns)\n",
        "cl.remove('year')\n",
        "cl.remove('month')\n",
        "cl.remove('site_latitude')\n",
        "cl.remove('site_longitude')\n",
        "cl.remove('bearing')\n",
        "cl.remove('distance_haversine')\n",
        "cl.remove('manhattan_dist')\n",
        "cl.remove('stock_distributed')\n",
        "trainb[cl]=scaler.fit_transform(trainb[cl])\n",
        "### copy of stock_distributed before transformation (smoothing)\n",
        "trainb['stock_distributed_cop']=trainb['stock_distributed'].copy()"
      ],
      "execution_count": null,
      "outputs": []
    },
    {
      "cell_type": "markdown",
      "metadata": {
        "id": "OjMMuuLodBQE",
        "colab_type": "text"
      },
      "source": [
        "# Smoothing stock_distributed to eliminate unwanted noise and reduce spikes. We use Exponentially Weighted Moving Average."
      ]
    },
    {
      "cell_type": "code",
      "metadata": {
        "id": "aasyLVwIFYWW",
        "colab_type": "code",
        "colab": {}
      },
      "source": [
        "### Smoothing stock_distributed to eliminate unwanted noise and reduce spikes. We use Exponentially Weighted Moving Average\n",
        "trainb['ewm']=0\n",
        "for site in trainb['site_code'].unique():\n",
        "  for prod in trainb['product_code'].unique():\n",
        "    trainb.loc[(trainb['site_code']==site)&(trainb['product_code']==prod),'ewm']=\\\n",
        "    trainb.loc[(trainb['site_code']==site)&(trainb['product_code']==prod),'stock_distributed'].ewm(min_periods=3,alpha=.6).mean().fillna(method='bfill').values"
      ],
      "execution_count": null,
      "outputs": []
    },
    {
      "cell_type": "code",
      "metadata": {
        "id": "oZxrYKsmnLV1",
        "colab_type": "code",
        "colab": {}
      },
      "source": [
        "### we calculate the difference between rows for the site_code and product_code and we fill missing values with 0\n",
        "trainb['diff']=trainb.groupby(['site_code','product_code'])['stock_distributed'].diff()\n",
        "trainb['diff']=trainb['diff'].fillna(0)\n",
        "\n",
        "### Calculation of cumulative sum of  \"diff\" columns site_code and product_code. This is useful to keep information of the evolution of stock_distributed\n",
        "trainb['cumsum_diff']=trainb.groupby(['site_code','product_code'])['diff'].cumsum()\n",
        "\n",
        "### Calculation of cumulative sum, cumulative max and cumulative min for stock_distributed for site_code and product_code per year\n",
        "trainb['cumsum']=trainb.groupby(['year','site_code','product_code'])['stock_distributed'].cumsum()\n",
        "trainb['cummax']=trainb.groupby(['year','site_code','product_code'])['stock_distributed'].cummax()\n",
        "trainb['cummin']=trainb.groupby(['year','site_code','product_code'])['stock_distributed'].cummin()\n",
        "\n",
        "####Counts of unique product; so we could re-group per site on monthly basis\n",
        "trainb['counts_of_product_code']=trainb['product_code'].map(trainb['product_code'].value_counts())\n",
        "trainb['Availability_per_site_on_monthly_basis'] =trainb.groupby(['month','district','site_code'])['counts_of_product_code'].cumsum()"
      ],
      "execution_count": null,
      "outputs": []
    },
    {
      "cell_type": "code",
      "metadata": {
        "id": "k4Y5udSuYHu-",
        "colab_type": "code",
        "colab": {}
      },
      "source": [
        "#Concatenation of site and product code for relationship between unique product\n",
        "trainb['site_product_concatenation']= trainb['site_code']+ '_'+trainb['product_code']"
      ],
      "execution_count": null,
      "outputs": []
    },
    {
      "cell_type": "code",
      "metadata": {
        "id": "2m263fnkMAGN",
        "colab_type": "code",
        "colab": {}
      },
      "source": [
        "### Our approach is to develop 3 models. If we are at month M, model_1 must predict the value of month M+1,model_2 must predict the value of month M+2\n",
        "### and model_3 must predict the value of month M+3. With this approach we can predict the value for October, November and December.\n",
        "### to achieve this we create 3 target variables (stock_distributed_t1,stock_distributed_t2 and stock_distributed_t3). If we are in month M the target variable for model_1 will be\n",
        "### the value of stock_distributed in month m + 1 we call this variable stock_distributed_t1. The reasoning is the same for stock_distributed_t2 and stock_distributed_t3\n",
        "\n",
        "trainb['shift_1']=trainb.groupby(['site_code','product_code'],sort=False)['stock_distributed'].shift(1)\n",
        "trainb['shift_2']=trainb.groupby(['site_code','product_code'],sort=False)['stock_distributed'].shift(2)\n",
        "\n",
        "trainb.loc[trainb['shift_1'].isnull(),'shift_1']=trainb.loc[trainb['shift_1'].isnull(),'average_monthly_consumption'].values\n",
        "trainb.loc[trainb['shift_2'].isnull(),'shift_2']=trainb.loc[trainb['shift_2'].isnull(),'average_monthly_consumption'].values\n",
        "\n",
        "trainb['stock_distributed_t1']=trainb.groupby(['site_code','product_code'],sort=False)['stock_distributed'].shift(-1)\n",
        "trainb['stock_distributed_t2']=trainb.groupby(['site_code','product_code'],sort=False)['stock_distributed'].shift(-2)\n",
        "trainb['stock_distributed_t3']=trainb.groupby(['site_code','product_code'],sort=False)['stock_distributed'].shift(-3)\n",
        "\n",
        "### we fill the missing values with average_monthly_consumption columns. This columns gives a better result compared to stock_distributed\n",
        "trainb.loc[trainb['stock_distributed_t1'].isnull(),'stock_distributed_t1']=trainb.loc[trainb['stock_distributed_t1'].isnull(),'average_monthly_consumption'].values\n",
        "trainb.loc[trainb['stock_distributed_t2'].isnull(),'stock_distributed_t2']=trainb.loc[trainb['stock_distributed_t2'].isnull(),'average_monthly_consumption'].values\n",
        "trainb.loc[trainb['stock_distributed_t3'].isnull(),'stock_distributed_t3']=trainb.loc[trainb['stock_distributed_t3'].isnull(),'average_monthly_consumption'].values\n",
        "\n",
        "trainb['rolling_mean']=trainb[['shift_1','shift_2','stock_distributed']].mean(axis=1)"
      ],
      "execution_count": null,
      "outputs": []
    },
    {
      "cell_type": "code",
      "metadata": {
        "id": "YkkxVAeiMAIr",
        "colab_type": "code",
        "colab": {}
      },
      "source": [
        "### here we create aggregate feature mean,median and std\n",
        "### we create a dictionnary to map  key columns with the columns we are going to aggregate\n",
        "\n",
        "grp={'month,region,product_code':['stock_initial','stock_received','rolling_mean'],'month,district,product_code':['stock_initial','stock_received','rolling_mean'],\n",
        "     'month,district,site_code,product_code':['stock_initial','stock_received','rolling_mean'],\n",
        "     'month,region,product_type':['stock_initial','stock_received','rolling_mean',],'month,district,product_type':['stock_initial','stock_received','rolling_mean'],\n",
        "     'month,district,site_code,product_type':['stock_initial','stock_received','rolling_mean'],\n",
        "     'region,product_code':['stock_initial','stock_received','rolling_mean'],'district,product_code':['stock_initial','stock_received','rolling_mean'],\n",
        "     'district,site_code,product_code':['stock_initial','stock_received','rolling_mean'],\n",
        "     'region,product_type':['stock_initial','stock_received','rolling_mean'],'district,product_type':['stock_initial','stock_received','rolling_mean'],\n",
        "     'district,site_code,product_type':['stock_initial','stock_received','rolling_mean']}"
      ],
      "execution_count": null,
      "outputs": []
    },
    {
      "cell_type": "code",
      "metadata": {
        "id": "UCAZUAvkMALM",
        "colab_type": "code",
        "colab": {}
      },
      "source": [
        "### we process the aggregation\n",
        "for g in grp:\n",
        "  dic={}\n",
        "  for j in grp[g]:\n",
        "    dic[j]=[np.mean,np.median,np.std]\n",
        "  pp=trainb.groupby(g.split(',')).agg(dic).reset_index()\n",
        "  pp.columns=[c[0] if c[1]=='' else g+'_'+c[0]+'_'+c[1] for c in pp.columns]\n",
        "  trainb=trainb.merge(pp,on=g.split(','))"
      ],
      "execution_count": null,
      "outputs": []
    },
    {
      "cell_type": "code",
      "metadata": {
        "id": "S4MsIp9YYBRH",
        "colab_type": "code",
        "colab": {}
      },
      "source": [
        "#import seaborn as sns\n",
        "#from matplotlib import pyplot as plt\n",
        "#get correlations of each features in dataset\n",
        "#corrmat = trainb.corr()\n",
        "#top_corr_features = corrmat.index\n",
        "#plt.figure(figsize=(15,10))\n",
        "#plot heat map\n",
        "#g=sns.heatmap(trainb.corr(),annot=True,cmap=\"RdYlGn\")"
      ],
      "execution_count": null,
      "outputs": []
    },
    {
      "cell_type": "code",
      "metadata": {
        "id": "tG1pkLa-MAS4",
        "colab_type": "code",
        "colab": {}
      },
      "source": [
        "test=trainb.sort_values(by=['year','month'],ascending=True).drop_duplicates(subset=['site_code','product_code'],keep='last')\n",
        "train=trainb.loc[~trainb['ID'].isin(test['ID'].values)]"
      ],
      "execution_count": null,
      "outputs": []
    },
    {
      "cell_type": "markdown",
      "metadata": {
        "id": "zYob3sNbdivg",
        "colab_type": "text"
      },
      "source": [
        "# We make a one hot encoding for some categorical columns and we remove unnecessary variables"
      ]
    },
    {
      "cell_type": "code",
      "metadata": {
        "id": "LfQmzOVfMAVl",
        "colab_type": "code",
        "colab": {}
      },
      "source": [
        "### We make a one hot encoding for some categorical columns and we remove unnecessary variables\n",
        "enc=ce.OneHotEncoder(cols=['region','district','product_code','site_type','product_type','site_product_concatenation'],drop_invariant=True,use_cat_names=True)\n",
        "d_train=enc.fit_transform(train)\n",
        "d_test=enc.transform(test)\n",
        "col=list(d_train.columns)\n",
        "col.remove('year')\n",
        "\n",
        "col.remove('site_code')\n",
        "col.remove('stock_ordered')\n",
        "col.remove('stock_received')\n",
        "\n",
        "col.remove('shift_1')\n",
        "col.remove('shift_2')\n",
        "\n",
        "col.remove('calendar')\n",
        "\n",
        "col.remove('stock_initial')\n",
        "col.remove('stock_adjustment')\n",
        "col.remove('stock_stockout_days')\n",
        "\n",
        "col.remove('stock_distributed')\n",
        "col.remove('stock_distributed_t1')\n",
        "col.remove('stock_distributed_t2')\n",
        "col.remove('stock_distributed_t3')\n",
        "col.remove('average_monthly_consumption')\n",
        "col.remove('ID')\n",
        "col.remove('diff')\n",
        "col.remove('stock_distributed_cop')\n",
        "col.remove('ewm')\n",
        "col.remove('som')\n",
        "col.remove('Total_product_on_month_basis_for_each_site_code')"
      ],
      "execution_count": null,
      "outputs": []
    },
    {
      "cell_type": "markdown",
      "metadata": {
        "id": "jw20Rxt_dqM8",
        "colab_type": "text"
      },
      "source": [
        "#Initializing models:\n",
        "# (i)  Model1+ls1 will be used to predict October, \n",
        "# (ii) Model2+ls2 will be used to predict November, \n",
        "# (iii) Model3+ls3 will be used to predict December respectively."
      ]
    },
    {
      "cell_type": "code",
      "metadata": {
        "id": "NsQpcsnCMAYc",
        "colab_type": "code",
        "colab": {}
      },
      "source": [
        "# Model1+ls1 will be used to predict October:\n",
        "model1=LGBMRegressor(num_leaves = 70,feature_fraction = 0.5,subsample = 0.8, max_depth=8,learning_rate=0.01,\n",
        "                     n_estimators=1000,colsample_bytree=.4,bagging_fraction = 0.6,min_split_gain = 0.05, \n",
        "                     random_state=42,verbosity=1,silent=None,objective='regression',booster='gbtree',\n",
        "                     n_jobs=-1, min_child_weight = 22)\n",
        "ls1=Lasso(alpha=.95,normalize=False,random_state=42,max_iter=5000)\n",
        "\n",
        "\n",
        "# Model2+ls2 will be used to predict November:\n",
        "model2=LGBMRegressor(num_leaves = 70,feature_fraction = 0.5,subsample = 0.8, max_depth=8,learning_rate=0.01,\n",
        "                     n_estimators=1000,colsample_bytree=.4,bagging_fraction = 0.6,min_split_gain = 0.05, \n",
        "                     random_state=42,verbosity=1,silent=None,objective='regression',booster='gbtree',\n",
        "                     n_jobs=-1, min_child_weight = 22)\n",
        "ls2=Lasso(alpha=.95,normalize=False,random_state=42,max_iter=5000)\n",
        "\n",
        "\n",
        "# Model3+ls3 will be used to predict December:\n",
        "model3=LGBMRegressor(num_leaves = 70,feature_fraction = 0.5,subsample = 0.8, max_depth=8,learning_rate=0.01,\n",
        "                     n_estimators=1000,colsample_bytree=.4,bagging_fraction = 0.6,min_split_gain = 0.05, \n",
        "                     random_state=42,verbosity=1,silent=None,objective='regression',booster='gbtree',\n",
        "                     n_jobs=-1, min_child_weight = 22)\n",
        "ls3=Lasso(alpha=.95,normalize=False,random_state=42,max_iter=5000)                  "
      ],
      "execution_count": null,
      "outputs": []
    },
    {
      "cell_type": "code",
      "metadata": {
        "id": "Sh6LG9k0MAbn",
        "colab_type": "code",
        "colab": {}
      },
      "source": [
        "### create 3 variables for the target label et 3 columns in test set to receive models prediction\n",
        "y1='stock_distributed_t1'\n",
        "y2='stock_distributed_t2'\n",
        "y3='stock_distributed_t3'"
      ],
      "execution_count": null,
      "outputs": []
    },
    {
      "cell_type": "code",
      "metadata": {
        "id": "XlpqT8k1MAen",
        "colab_type": "code",
        "colab": {}
      },
      "source": [
        "d_test['predicted1']=0\n",
        "d_test['predicted2']=0\n",
        "d_test['predicted3']=0"
      ],
      "execution_count": null,
      "outputs": []
    },
    {
      "cell_type": "code",
      "metadata": {
        "id": "hPBHoRMVMAh-",
        "colab_type": "code",
        "colab": {}
      },
      "source": [
        "### For each target select best features with ExtraTreesRegressor and store this features in dictionnary\n",
        "clf = ExtraTreesRegressor(n_estimators=500,max_depth=10,random_state=42)\n",
        "\n",
        "cl={}\n",
        "for y in [y1,y2,y3]:\n",
        "  clf.fit(d_train[col].fillna(0), d_train[y])\n",
        "  model = SelectFromModel(clf, prefit=True,threshold='median')\n",
        "  cl[y]=list(np.array(col)[model.get_support()])\n",
        "  #cl[y]=col"
      ],
      "execution_count": null,
      "outputs": []
    },
    {
      "cell_type": "code",
      "metadata": {
        "id": "0Ce8myyZMAmU",
        "colab_type": "code",
        "colab": {}
      },
      "source": [
        "### train first model with selected feature and combine the predictions \n",
        "x_tr,y_tr=d_train[cl[y1]],d_train[y1]\n",
        "model1.fit(x_tr,y_tr)\n",
        "ls1.fit(x_tr.fillna(0),y_tr)\n",
        "d_test['predicted1']=np.round(model1.predict(d_test[cl[y1]])*.75+ls1.predict(d_test[cl[y1]].fillna(0))*.25)"
      ],
      "execution_count": null,
      "outputs": []
    },
    {
      "cell_type": "code",
      "metadata": {
        "id": "0pGnTekWMAqW",
        "colab_type": "code",
        "colab": {}
      },
      "source": [
        "### train second model with selected feature and combine the predictions\n",
        "x_tr,y_tr=d_train[cl[y2]],d_train[y2]\n",
        "model2.fit(x_tr,y_tr)\n",
        "ls2.fit(x_tr.fillna(0),y_tr)\n",
        "d_test['predicted2']=np.round(model2.predict(d_test[cl[y2]])*.75+ls2.predict(d_test[cl[y2]].fillna(0))*.25)"
      ],
      "execution_count": null,
      "outputs": []
    },
    {
      "cell_type": "code",
      "metadata": {
        "id": "TvgKTGfFMAkB",
        "colab_type": "code",
        "colab": {}
      },
      "source": [
        "### train third model with selected feature and combine the predictions\n",
        "x_tr,y_tr=d_train[cl[y3]],d_train[y3]\n",
        "model3.fit(x_tr,y_tr)\n",
        "ls3.fit(x_tr.fillna(0),y_tr)\n",
        "d_test['predicted3']=np.round(model3.predict(d_test[cl[y3]])*.75+ls3.predict(d_test[cl[y3]].fillna(0))*.25)"
      ],
      "execution_count": null,
      "outputs": []
    },
    {
      "cell_type": "markdown",
      "metadata": {
        "id": "xYN0I03hU2nz",
        "colab_type": "text"
      },
      "source": [
        "# Preparation of test set that's in line with USAID submission format:"
      ]
    },
    {
      "cell_type": "code",
      "metadata": {
        "id": "brXZ9_cfNrdB",
        "colab_type": "code",
        "colab": {}
      },
      "source": [
        "### Preparation of test set for the submission \n",
        "\n",
        "d_test['site_code']=d_test['ID'].str.split('X',expand=True)[2].str.strip()\n",
        "d_test['product_code']=d_test['ID'].str.split('X',expand=True)[3].str.strip()\n",
        "aux=d_test.sort_values(by=['year','month'])\n",
        "aux.drop_duplicates(subset=['site_code','product_code'],keep='last',inplace=True)\n",
        "\n",
        "aux['year']=2019\n",
        "aux['month']=10\n",
        "a=aux[['year','month','site_code','product_code','predicted1']]\n",
        "a.rename(index=str,columns={'predicted1':'predicted_value'},inplace=True)\n",
        "\n",
        "\n",
        "aux=d_test.sort_values(by=['year','month'])\n",
        "aux.drop_duplicates(subset=['site_code','product_code'],keep='last',inplace=True)\n",
        "\n",
        "aux['year']=2019\n",
        "aux['month']=11\n",
        "b=aux[['year','month','site_code','product_code','predicted2']]\n",
        "b.rename(index=str,columns={'predicted2':'predicted_value'},inplace=True)\n",
        "\n",
        "\n",
        "aux=d_test.sort_values(by=['year','month'])\n",
        "aux.drop_duplicates(subset=['site_code','product_code'],keep='last',inplace=True)\n",
        "\n",
        "aux['year']=2019\n",
        "aux['month']=12\n",
        "c=aux[['year','month','site_code','product_code','predicted3']]\n",
        "c.rename(index=str,columns={'predicted3':'predicted_value'},inplace=True)\n",
        "\n",
        "dd=pd.concat([a,b,c]).reset_index(drop=True)"
      ],
      "execution_count": null,
      "outputs": []
    },
    {
      "cell_type": "code",
      "metadata": {
        "id": "-emuCRFG9Smx",
        "colab_type": "code",
        "colab": {}
      },
      "source": [
        "usaid_sub=submission_usaid[['year','month','site_code','product_code']].merge(dd,on=['year','month','site_code','product_code'],how='left')\n",
        "### some site_code x product_code association does not exist in the training set but are present in the submission data. So we set the prediction of this association to 0\n",
        "usaid_sub.fillna(0,inplace=True)\n",
        "### Some predictions are negative, so we fix that by multiply this values with -1\n",
        "usaid_sub.loc[usaid_sub['predicted_value']<0,'predicted_value']=-1*usaid_sub.loc[usaid_sub['predicted_value']<0,'predicted_value'].values\n",
        "usaid_sub.to_csv('usaid_model_2.csv',index=False)"
      ],
      "execution_count": null,
      "outputs": []
    },
    {
      "cell_type": "code",
      "metadata": {
        "id": "z-P_zm_K9-aS",
        "colab_type": "code",
        "colab": {
          "base_uri": "https://localhost:8080/",
          "height": 34
        },
        "outputId": "d8f8f033-0713-49d6-f316-aeead9432be1"
      },
      "source": [
        "usaid_sub.shape"
      ],
      "execution_count": null,
      "outputs": [
        {
          "output_type": "execute_result",
          "data": {
            "text/plain": [
              "(3115, 5)"
            ]
          },
          "metadata": {
            "tags": []
          },
          "execution_count": 39
        }
      ]
    },
    {
      "cell_type": "code",
      "metadata": {
        "id": "CyLKi1gBXnvi",
        "colab_type": "code",
        "colab": {
          "base_uri": "https://localhost:8080/",
          "height": 388
        },
        "outputId": "efaa98f0-ce54-42ed-cc95-9764de19f269"
      },
      "source": [
        "fea_imp = pd.DataFrame({'imp':model1.feature_importances_, 'col': x_tr.columns})\n",
        "fea_imp = fea_imp.sort_values(['imp', 'col'], ascending=[True, False]).iloc[-40:]\n",
        "_ = fea_imp.plot(kind='barh', x='col', y='imp', figsize=(20, 10))   "
      ],
      "execution_count": null,
      "outputs": [
        {
          "output_type": "display_data",
          "data": {
            "image/png": "[encoded data removed]",
            "text/plain": [
              "<Figure size 1440x720 with 1 Axes>"
            ]
          },
          "metadata": {
            "tags": [],
            "needs_background": "light"
          }
        }
      ]
    },
    {
      "cell_type": "code",
      "metadata": {
        "id": "uH3s9TzICnfr",
        "colab_type": "code",
        "colab": {
          "base_uri": "https://localhost:8080/",
          "height": 1000
        },
        "outputId": "9d232d1b-cd80-42e2-c8c1-a7cfcf31eaaf"
      },
      "source": [
        "usaid_sub.head(50)"
      ],
      "execution_count": null,
      "outputs": [
        {
          "output_type": "execute_result",
          "data": {
            "text/html": [
              "<div>\n",
              "<style scoped>\n",
              "    .dataframe tbody tr th:only-of-type {\n",
              "        vertical-align: middle;\n",
              "    }\n",
              "\n",
              "    .dataframe tbody tr th {\n",
              "        vertical-align: top;\n",
              "    }\n",
              "\n",
              "    .dataframe thead th {\n",
              "        text-align: right;\n",
              "    }\n",
              "</style>\n",
              "<table border=\"1\" class=\"dataframe\">\n",
              "  <thead>\n",
              "    <tr style=\"text-align: right;\">\n",
              "      <th></th>\n",
              "      <th>year</th>\n",
              "      <th>month</th>\n",
              "      <th>site_code</th>\n",
              "      <th>product_code</th>\n",
              "      <th>predicted_value</th>\n",
              "    </tr>\n",
              "  </thead>\n",
              "  <tbody>\n",
              "    <tr>\n",
              "      <th>0</th>\n",
              "      <td>2019</td>\n",
              "      <td>10</td>\n",
              "      <td>C4001</td>\n",
              "      <td>AS27134</td>\n",
              "      <td>21.0</td>\n",
              "    </tr>\n",
              "    <tr>\n",
              "      <th>1</th>\n",
              "      <td>2019</td>\n",
              "      <td>10</td>\n",
              "      <td>C4001</td>\n",
              "      <td>AS27132</td>\n",
              "      <td>1.0</td>\n",
              "    </tr>\n",
              "    <tr>\n",
              "      <th>2</th>\n",
              "      <td>2019</td>\n",
              "      <td>10</td>\n",
              "      <td>C4001</td>\n",
              "      <td>AS27000</td>\n",
              "      <td>6.0</td>\n",
              "    </tr>\n",
              "    <tr>\n",
              "      <th>3</th>\n",
              "      <td>2019</td>\n",
              "      <td>10</td>\n",
              "      <td>C4001</td>\n",
              "      <td>AS27137</td>\n",
              "      <td>3.0</td>\n",
              "    </tr>\n",
              "    <tr>\n",
              "      <th>4</th>\n",
              "      <td>2019</td>\n",
              "      <td>10</td>\n",
              "      <td>C4001</td>\n",
              "      <td>AS27138</td>\n",
              "      <td>5.0</td>\n",
              "    </tr>\n",
              "    <tr>\n",
              "      <th>5</th>\n",
              "      <td>2019</td>\n",
              "      <td>10</td>\n",
              "      <td>C4001</td>\n",
              "      <td>AS27133</td>\n",
              "      <td>37.0</td>\n",
              "    </tr>\n",
              "    <tr>\n",
              "      <th>6</th>\n",
              "      <td>2019</td>\n",
              "      <td>10</td>\n",
              "      <td>C4023</td>\n",
              "      <td>AS27000</td>\n",
              "      <td>14.0</td>\n",
              "    </tr>\n",
              "    <tr>\n",
              "      <th>7</th>\n",
              "      <td>2019</td>\n",
              "      <td>10</td>\n",
              "      <td>C4023</td>\n",
              "      <td>AS27133</td>\n",
              "      <td>44.0</td>\n",
              "    </tr>\n",
              "    <tr>\n",
              "      <th>8</th>\n",
              "      <td>2019</td>\n",
              "      <td>11</td>\n",
              "      <td>C4023</td>\n",
              "      <td>AS27000</td>\n",
              "      <td>13.0</td>\n",
              "    </tr>\n",
              "    <tr>\n",
              "      <th>9</th>\n",
              "      <td>2019</td>\n",
              "      <td>11</td>\n",
              "      <td>C4023</td>\n",
              "      <td>AS27133</td>\n",
              "      <td>42.0</td>\n",
              "    </tr>\n",
              "    <tr>\n",
              "      <th>10</th>\n",
              "      <td>2019</td>\n",
              "      <td>11</td>\n",
              "      <td>C4001</td>\n",
              "      <td>AS27134</td>\n",
              "      <td>20.0</td>\n",
              "    </tr>\n",
              "    <tr>\n",
              "      <th>11</th>\n",
              "      <td>2019</td>\n",
              "      <td>11</td>\n",
              "      <td>C4001</td>\n",
              "      <td>AS27132</td>\n",
              "      <td>2.0</td>\n",
              "    </tr>\n",
              "    <tr>\n",
              "      <th>12</th>\n",
              "      <td>2019</td>\n",
              "      <td>11</td>\n",
              "      <td>C4001</td>\n",
              "      <td>AS27000</td>\n",
              "      <td>9.0</td>\n",
              "    </tr>\n",
              "    <tr>\n",
              "      <th>13</th>\n",
              "      <td>2019</td>\n",
              "      <td>11</td>\n",
              "      <td>C4001</td>\n",
              "      <td>AS27137</td>\n",
              "      <td>1.0</td>\n",
              "    </tr>\n",
              "    <tr>\n",
              "      <th>14</th>\n",
              "      <td>2019</td>\n",
              "      <td>11</td>\n",
              "      <td>C4001</td>\n",
              "      <td>AS27138</td>\n",
              "      <td>4.0</td>\n",
              "    </tr>\n",
              "    <tr>\n",
              "      <th>15</th>\n",
              "      <td>2019</td>\n",
              "      <td>11</td>\n",
              "      <td>C4001</td>\n",
              "      <td>AS27133</td>\n",
              "      <td>30.0</td>\n",
              "    </tr>\n",
              "    <tr>\n",
              "      <th>16</th>\n",
              "      <td>2019</td>\n",
              "      <td>12</td>\n",
              "      <td>C4001</td>\n",
              "      <td>AS27134</td>\n",
              "      <td>17.0</td>\n",
              "    </tr>\n",
              "    <tr>\n",
              "      <th>17</th>\n",
              "      <td>2019</td>\n",
              "      <td>12</td>\n",
              "      <td>C4001</td>\n",
              "      <td>AS27132</td>\n",
              "      <td>2.0</td>\n",
              "    </tr>\n",
              "    <tr>\n",
              "      <th>18</th>\n",
              "      <td>2019</td>\n",
              "      <td>12</td>\n",
              "      <td>C4001</td>\n",
              "      <td>AS27000</td>\n",
              "      <td>9.0</td>\n",
              "    </tr>\n",
              "    <tr>\n",
              "      <th>19</th>\n",
              "      <td>2019</td>\n",
              "      <td>12</td>\n",
              "      <td>C4001</td>\n",
              "      <td>AS27137</td>\n",
              "      <td>1.0</td>\n",
              "    </tr>\n",
              "    <tr>\n",
              "      <th>20</th>\n",
              "      <td>2019</td>\n",
              "      <td>12</td>\n",
              "      <td>C4001</td>\n",
              "      <td>AS27138</td>\n",
              "      <td>4.0</td>\n",
              "    </tr>\n",
              "    <tr>\n",
              "      <th>21</th>\n",
              "      <td>2019</td>\n",
              "      <td>12</td>\n",
              "      <td>C4001</td>\n",
              "      <td>AS27133</td>\n",
              "      <td>20.0</td>\n",
              "    </tr>\n",
              "    <tr>\n",
              "      <th>22</th>\n",
              "      <td>2019</td>\n",
              "      <td>12</td>\n",
              "      <td>C4023</td>\n",
              "      <td>AS27000</td>\n",
              "      <td>14.0</td>\n",
              "    </tr>\n",
              "    <tr>\n",
              "      <th>23</th>\n",
              "      <td>2019</td>\n",
              "      <td>12</td>\n",
              "      <td>C4023</td>\n",
              "      <td>AS27133</td>\n",
              "      <td>47.0</td>\n",
              "    </tr>\n",
              "    <tr>\n",
              "      <th>24</th>\n",
              "      <td>2019</td>\n",
              "      <td>10</td>\n",
              "      <td>C1080</td>\n",
              "      <td>AS42018</td>\n",
              "      <td>0.0</td>\n",
              "    </tr>\n",
              "    <tr>\n",
              "      <th>25</th>\n",
              "      <td>2019</td>\n",
              "      <td>10</td>\n",
              "      <td>C1080</td>\n",
              "      <td>AS21126</td>\n",
              "      <td>0.0</td>\n",
              "    </tr>\n",
              "    <tr>\n",
              "      <th>26</th>\n",
              "      <td>2019</td>\n",
              "      <td>10</td>\n",
              "      <td>C1080</td>\n",
              "      <td>AS27134</td>\n",
              "      <td>38.0</td>\n",
              "    </tr>\n",
              "    <tr>\n",
              "      <th>27</th>\n",
              "      <td>2019</td>\n",
              "      <td>10</td>\n",
              "      <td>C1080</td>\n",
              "      <td>AS27132</td>\n",
              "      <td>16.0</td>\n",
              "    </tr>\n",
              "    <tr>\n",
              "      <th>28</th>\n",
              "      <td>2019</td>\n",
              "      <td>10</td>\n",
              "      <td>C1080</td>\n",
              "      <td>AS27000</td>\n",
              "      <td>138.0</td>\n",
              "    </tr>\n",
              "    <tr>\n",
              "      <th>29</th>\n",
              "      <td>2019</td>\n",
              "      <td>10</td>\n",
              "      <td>C1080</td>\n",
              "      <td>AS27137</td>\n",
              "      <td>16.0</td>\n",
              "    </tr>\n",
              "    <tr>\n",
              "      <th>30</th>\n",
              "      <td>2019</td>\n",
              "      <td>10</td>\n",
              "      <td>C1080</td>\n",
              "      <td>AS27138</td>\n",
              "      <td>12.0</td>\n",
              "    </tr>\n",
              "    <tr>\n",
              "      <th>31</th>\n",
              "      <td>2019</td>\n",
              "      <td>10</td>\n",
              "      <td>C1080</td>\n",
              "      <td>AS27133</td>\n",
              "      <td>99.0</td>\n",
              "    </tr>\n",
              "    <tr>\n",
              "      <th>32</th>\n",
              "      <td>2019</td>\n",
              "      <td>10</td>\n",
              "      <td>C1063</td>\n",
              "      <td>AS21126</td>\n",
              "      <td>0.0</td>\n",
              "    </tr>\n",
              "    <tr>\n",
              "      <th>33</th>\n",
              "      <td>2019</td>\n",
              "      <td>10</td>\n",
              "      <td>C1063</td>\n",
              "      <td>AS42018</td>\n",
              "      <td>0.0</td>\n",
              "    </tr>\n",
              "    <tr>\n",
              "      <th>34</th>\n",
              "      <td>2019</td>\n",
              "      <td>10</td>\n",
              "      <td>C1063</td>\n",
              "      <td>AS46000</td>\n",
              "      <td>0.0</td>\n",
              "    </tr>\n",
              "    <tr>\n",
              "      <th>35</th>\n",
              "      <td>2019</td>\n",
              "      <td>10</td>\n",
              "      <td>C1063</td>\n",
              "      <td>AS17005</td>\n",
              "      <td>0.0</td>\n",
              "    </tr>\n",
              "    <tr>\n",
              "      <th>36</th>\n",
              "      <td>2019</td>\n",
              "      <td>10</td>\n",
              "      <td>C1063</td>\n",
              "      <td>AS27134</td>\n",
              "      <td>15.0</td>\n",
              "    </tr>\n",
              "    <tr>\n",
              "      <th>37</th>\n",
              "      <td>2019</td>\n",
              "      <td>10</td>\n",
              "      <td>C1063</td>\n",
              "      <td>AS27132</td>\n",
              "      <td>4.0</td>\n",
              "    </tr>\n",
              "    <tr>\n",
              "      <th>38</th>\n",
              "      <td>2019</td>\n",
              "      <td>10</td>\n",
              "      <td>C1063</td>\n",
              "      <td>AS27000</td>\n",
              "      <td>4.0</td>\n",
              "    </tr>\n",
              "    <tr>\n",
              "      <th>39</th>\n",
              "      <td>2019</td>\n",
              "      <td>10</td>\n",
              "      <td>C1063</td>\n",
              "      <td>AS27139</td>\n",
              "      <td>0.0</td>\n",
              "    </tr>\n",
              "    <tr>\n",
              "      <th>40</th>\n",
              "      <td>2019</td>\n",
              "      <td>10</td>\n",
              "      <td>C1063</td>\n",
              "      <td>AS27137</td>\n",
              "      <td>2.0</td>\n",
              "    </tr>\n",
              "    <tr>\n",
              "      <th>41</th>\n",
              "      <td>2019</td>\n",
              "      <td>10</td>\n",
              "      <td>C1063</td>\n",
              "      <td>AS27138</td>\n",
              "      <td>2.0</td>\n",
              "    </tr>\n",
              "    <tr>\n",
              "      <th>42</th>\n",
              "      <td>2019</td>\n",
              "      <td>10</td>\n",
              "      <td>C1063</td>\n",
              "      <td>AS27133</td>\n",
              "      <td>41.0</td>\n",
              "    </tr>\n",
              "    <tr>\n",
              "      <th>43</th>\n",
              "      <td>2019</td>\n",
              "      <td>10</td>\n",
              "      <td>C1010</td>\n",
              "      <td>AS27134</td>\n",
              "      <td>19.0</td>\n",
              "    </tr>\n",
              "    <tr>\n",
              "      <th>44</th>\n",
              "      <td>2019</td>\n",
              "      <td>10</td>\n",
              "      <td>C1010</td>\n",
              "      <td>AS27132</td>\n",
              "      <td>3.0</td>\n",
              "    </tr>\n",
              "    <tr>\n",
              "      <th>45</th>\n",
              "      <td>2019</td>\n",
              "      <td>10</td>\n",
              "      <td>C1010</td>\n",
              "      <td>AS27000</td>\n",
              "      <td>15.0</td>\n",
              "    </tr>\n",
              "    <tr>\n",
              "      <th>46</th>\n",
              "      <td>2019</td>\n",
              "      <td>10</td>\n",
              "      <td>C1010</td>\n",
              "      <td>AS27137</td>\n",
              "      <td>7.0</td>\n",
              "    </tr>\n",
              "    <tr>\n",
              "      <th>47</th>\n",
              "      <td>2019</td>\n",
              "      <td>10</td>\n",
              "      <td>C1010</td>\n",
              "      <td>AS27138</td>\n",
              "      <td>5.0</td>\n",
              "    </tr>\n",
              "    <tr>\n",
              "      <th>48</th>\n",
              "      <td>2019</td>\n",
              "      <td>10</td>\n",
              "      <td>C1010</td>\n",
              "      <td>AS27133</td>\n",
              "      <td>57.0</td>\n",
              "    </tr>\n",
              "    <tr>\n",
              "      <th>49</th>\n",
              "      <td>2019</td>\n",
              "      <td>10</td>\n",
              "      <td>C1066</td>\n",
              "      <td>AS27134</td>\n",
              "      <td>40.0</td>\n",
              "    </tr>\n",
              "  </tbody>\n",
              "</table>\n",
              "</div>"
            ],
            "text/plain": [
              "    year  month site_code product_code  predicted_value\n",
              "0   2019     10     C4001      AS27134             21.0\n",
              "1   2019     10     C4001      AS27132              1.0\n",
              "2   2019     10     C4001      AS27000              6.0\n",
              "3   2019     10     C4001      AS27137              3.0\n",
              "4   2019     10     C4001      AS27138              5.0\n",
              "5   2019     10     C4001      AS27133             37.0\n",
              "6   2019     10     C4023      AS27000             14.0\n",
              "7   2019     10     C4023      AS27133             44.0\n",
              "8   2019     11     C4023      AS27000             13.0\n",
              "9   2019     11     C4023      AS27133             42.0\n",
              "10  2019     11     C4001      AS27134             20.0\n",
              "11  2019     11     C4001      AS27132              2.0\n",
              "12  2019     11     C4001      AS27000              9.0\n",
              "13  2019     11     C4001      AS27137              1.0\n",
              "14  2019     11     C4001      AS27138              4.0\n",
              "15  2019     11     C4001      AS27133             30.0\n",
              "16  2019     12     C4001      AS27134             17.0\n",
              "17  2019     12     C4001      AS27132              2.0\n",
              "18  2019     12     C4001      AS27000              9.0\n",
              "19  2019     12     C4001      AS27137              1.0\n",
              "20  2019     12     C4001      AS27138              4.0\n",
              "21  2019     12     C4001      AS27133             20.0\n",
              "22  2019     12     C4023      AS27000             14.0\n",
              "23  2019     12     C4023      AS27133             47.0\n",
              "24  2019     10     C1080      AS42018              0.0\n",
              "25  2019     10     C1080      AS21126              0.0\n",
              "26  2019     10     C1080      AS27134             38.0\n",
              "27  2019     10     C1080      AS27132             16.0\n",
              "28  2019     10     C1080      AS27000            138.0\n",
              "29  2019     10     C1080      AS27137             16.0\n",
              "30  2019     10     C1080      AS27138             12.0\n",
              "31  2019     10     C1080      AS27133             99.0\n",
              "32  2019     10     C1063      AS21126              0.0\n",
              "33  2019     10     C1063      AS42018              0.0\n",
              "34  2019     10     C1063      AS46000              0.0\n",
              "35  2019     10     C1063      AS17005              0.0\n",
              "36  2019     10     C1063      AS27134             15.0\n",
              "37  2019     10     C1063      AS27132              4.0\n",
              "38  2019     10     C1063      AS27000              4.0\n",
              "39  2019     10     C1063      AS27139              0.0\n",
              "40  2019     10     C1063      AS27137              2.0\n",
              "41  2019     10     C1063      AS27138              2.0\n",
              "42  2019     10     C1063      AS27133             41.0\n",
              "43  2019     10     C1010      AS27134             19.0\n",
              "44  2019     10     C1010      AS27132              3.0\n",
              "45  2019     10     C1010      AS27000             15.0\n",
              "46  2019     10     C1010      AS27137              7.0\n",
              "47  2019     10     C1010      AS27138              5.0\n",
              "48  2019     10     C1010      AS27133             57.0\n",
              "49  2019     10     C1066      AS27134             40.0"
            ]
          },
          "metadata": {
            "tags": []
          },
          "execution_count": 41
        }
      ]
    }
  ]
}